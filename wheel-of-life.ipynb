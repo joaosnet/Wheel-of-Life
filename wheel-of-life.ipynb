{
 "cells": [
  {
   "cell_type": "markdown",
   "metadata": {},
   "source": [
    "## Passo a Passo\n",
    "- [x] Importar as bibliotecas\n",
    "- [x] Fazer as perguntas ao usuário\n",
    "- [x] Criar as condições para cada resposta\n",
    "- [x] Armazenar as informações em um arquivo em excel que servira como base de dados\n",
    "- [x] Carregar as informações do arquivo excel\n",
    "- [x] Mostrar as informações em um gráfico de radar"
   ]
  },
  {
   "cell_type": "markdown",
   "metadata": {},
   "source": [
    "### Bibliotecas Usadas nesse projeto"
   ]
  },
  {
   "cell_type": "code",
   "execution_count": 2,
   "metadata": {},
   "outputs": [],
   "source": [
    "from plotly.subplots import make_subplots\n",
    "import plotly.graph_objects as go\n",
    "import pandas as pd\n",
    "import tkinter as tk"
   ]
  },
  {
   "cell_type": "code",
   "execution_count": 3,
   "metadata": {},
   "outputs": [],
   "source": [
    "# fazendo um dicionario com os pilares e as perguntas\n",
    "pilares = {\"Profissional\": \"Em uma escala de 1 a 10, qual é o seu nível de satisfação com sua vida profissional atualmente?\",\n",
    "        \"Financeiro\": \"Em uma escala de 1 a 10, qual é o seu nível de satisfação com sua situação financeira atualmente?\",\n",
    "        \"Intelectual\": \"Em uma escala de 1 a 10, qual é o seu nível de satisfação com seu crescimento intelectual e aprendizado contínuo?\",\n",
    "        \"Servir\": \"Em uma escala de 1 a 10, qual é o seu nível de satisfação com a contribuição que você faz para servir os outros e tornar o mundo um lugar melhor?\",\n",
    "        \"Saude\": \"Em uma escala de 1 a 10, qual é o seu nível de satisfação com sua saúde física e bem-estar?\",\n",
    "        \"Social\": \"Em uma escala de 1 a 10, qual é o seu nível de satisfação com suas relações sociais e vida social?\",\n",
    "        \"Parentes\": \"Em uma escala de 1 a 10, qual é o seu nível de satisfação com seus relacionamentos familiares e com seus parentes?\",\n",
    "        \"Espiritual\": \"Em uma escala de 1 a 10, qual é o seu nível de satisfação com sua conexão espiritual e sentido de propósito?\",\n",
    "        \"Emocional\": \"Em uma escala de 1 a 10, qual é o seu nível de satisfação com sua saúde emocional e capacidade de lidar com as adversidades da vida?\"}\n",
    "\n",
    "# criando uma lista com os pilares\n",
    "lista_pilares = [\"Profissional\", \"Financeiro\", \"Intelectual\", \"Servir\", \"Saude\", \"Social\", \"Parentes\", \"Espiritual\", \"Emocional\"]\n",
    "\n",
    "# criando uma lista com as respostas\n",
    "lista_respostas = []"
   ]
  },
  {
   "cell_type": "code",
   "execution_count": 4,
   "metadata": {},
   "outputs": [],
   "source": [
    "# descobrindo o mes de referencia de acordo com o mes atual\n",
    "import datetime\n",
    "mes_atual = datetime.datetime.now().month   # mes atual\n",
    "meses = [\"Janeiro\", \"Fevereiro\", \"Março\", \"Abril\", \"Maio\", \"Junho\", \"Julho\", \"Agosto\", \"Setembro\", \"Outubro\", \"Novembo\", \"Dezembro\"]\n",
    "mes_referencia = str(meses[mes_atual - 1])   # mes de referencia"
   ]
  },
  {
   "cell_type": "code",
   "execution_count": 5,
   "metadata": {},
   "outputs": [],
   "source": [
    "qtde_linhas = len(lista_pilares)\n",
    "\n",
    "for i in range(qtde_linhas):\n",
    "    # criando uma unica janela para todas as perguntas com botoes de puxar de 0 a 10\n",
    "    janela = tk.Tk()\n",
    "    janela.title(\"Roda da Vida\")\n",
    "    # definindo a posicao da janela no centro da tela, sem definir o tamanho da janela\n",
    "    janela.geometry(\"+%d+%d\" % (janela.winfo_screenwidth()/2 - janela.winfo_reqwidth()/2, janela.winfo_screenheight()/2 - janela.winfo_reqheight()/2))\n",
    "    # configurando o tamanho da janela com a quantidade de linhas\n",
    "    janela.columnconfigure(0, weight=1)\n",
    "\n",
    "    for linha in range(qtde_linhas):\n",
    "        janela.rowconfigure(linha, weight=1)\n",
    "    # criando os labels\n",
    "    label = tk.Label(janela, text=pilares[lista_pilares[i]], font=(\"Arial\", 12), wraplength=500, justify=tk.LEFT)\n",
    "    i=0\n",
    "    label.grid(row=i, column=0, sticky='NSEW')\n",
    "\n",
    "\n",
    "    # criando uma funcao para salvar as respostas\n",
    "    def salvar_resposta():\n",
    "        resposta = str(scale.get())\n",
    "        lista_respostas.append(resposta)\n",
    "        janela.destroy()\n",
    "    \n",
    "    # criando os botoes\n",
    "    scale = tk.Scale(janela, from_=0, to=10, orient=tk.HORIZONTAL, sliderlength=30, sliderrelief='flat')\n",
    "    scale.grid(row=i+1, column=0, sticky='NSEW')\n",
    "    # criando um botao para salvar as respostas\n",
    "    botao = tk.Button(janela, text=\"Salvar\", command=salvar_resposta)\n",
    "    botao.grid(row=i+2, column=0, columnspan=3, sticky='NSEW')\n",
    "    janela.mainloop()\n"
   ]
  },
  {
   "cell_type": "markdown",
   "metadata": {},
   "source": [
    "### Armazenar as informações em um arquivo em excel que servira como base de dados"
   ]
  },
  {
   "cell_type": "code",
   "execution_count": 6,
   "metadata": {},
   "outputs": [],
   "source": [
    "# create a new dataframe with the answers\n",
    "df0 = pd.DataFrame(lista_respostas, index=lista_pilares, columns=[f'{mes_referencia}'])\n",
    "\n",
    "# display the dataframe\n",
    "# display(df0)"
   ]
  },
  {
   "cell_type": "code",
   "execution_count": 7,
   "metadata": {},
   "outputs": [],
   "source": [
    "# adicionando df0 ao df\n",
    "# lendo os dados\n",
    "df = pd.read_csv('dados.csv', sep=';', index_col=0, encoding='utf-8')\n",
    "\n",
    "#verificando se ja existe a coluna do mes atual\n",
    "if mes_referencia in df.columns:\n",
    "    # modifique apenas os valores da coluna\n",
    "    df[mes_referencia] = df0\n",
    "else:\n",
    "    # adicionando os dados do mes atual ao df\n",
    "    df = df.join(df0)\n",
    "\n",
    "# salvando as modificacoes no arquivo csv\n",
    "df.to_csv('dados.csv', sep=';', encoding='utf-8')"
   ]
  },
  {
   "cell_type": "markdown",
   "metadata": {},
   "source": [
    "### Importando os dados para Roda do Autocuidado "
   ]
  },
  {
   "cell_type": "code",
   "execution_count": 8,
   "metadata": {},
   "outputs": [],
   "source": [
    "# Agora faremos um dataframe separado para Roda do Autocuidado que tem os seguintes pilares 'Saúde', 'Psicológico', 'Emocional', 'Pessoal', 'Profissional', 'Espiritual', para isso pegarei algumas informacoes que ja existem no df para o df1\n",
    "df1 = df.loc[['Saude', 'Emocional', 'Profissional', 'Espiritual']]\n",
    "# adicionando as colunas que faltam para isso faremos perguntas sobre esses pilares Psicologico e Pessoal\n",
    "pilares_auto = {\"Psicologico\": \"Em uma escala de 0 a 10, qual é o seu nível de satisfação com sua saúde psicológica e bem-estar?\",\n",
    "                \"Pessoal\": \"Em uma escala de 0 a 10, qual é o seu nível de satisfação com sua saúde pessoal e autocuidado?\"}\n",
    "lista_respostas_auto = []\n",
    "qtde_linhas = len(pilares_auto)\n",
    "\n",
    "for i in range(qtde_linhas):\n",
    "    # criando uma unica janela para todas as perguntas com botoes de puxar de 0 a 10\n",
    "    janela = tk.Tk()\n",
    "    janela.title(\"Roda da Vida\")\n",
    "    # definindo a posicao da janela no centro da tela, sem definir o tamanho da janela\n",
    "    janela.geometry(\"+%d+%d\" % (janela.winfo_screenwidth()/2 - janela.winfo_reqwidth()/2, janela.winfo_screenheight()/2 - janela.winfo_reqheight()/2))\n",
    "    # configurando o tamanho da janela com a quantidade de linhas\n",
    "    janela.columnconfigure(0, weight=1)\n",
    "\n",
    "    for linha in range(qtde_linhas):\n",
    "        janela.rowconfigure(linha, weight=1)\n",
    "    # criando os labels\n",
    "    label = tk.Label(janela, text=pilares_auto[list(pilares_auto.keys())[i]], font=(\"Arial\", 12), wraplength=500, justify=tk.LEFT)\n",
    "    i=0\n",
    "    label.grid(row=i, column=0, sticky='NSEW')\n",
    "\n",
    "\n",
    "    # criando uma funcao para salvar as respostas\n",
    "    def salvar_resposta():\n",
    "        resposta = str(scale.get())\n",
    "        lista_respostas_auto.append(resposta)\n",
    "        janela.destroy()\n",
    "    \n",
    "    # criando os botoes\n",
    "    scale = tk.Scale(janela, from_=0, to=10, orient=tk.HORIZONTAL, sliderlength=30, sliderrelief='flat')\n",
    "    scale.grid(row=i+1, column=0, sticky='NSEW')\n",
    "    # criando um botao para salvar as respostas\n",
    "    botao = tk.Button(janela, text=\"Salvar\", command=salvar_resposta)\n",
    "    botao.grid(row=i+2, column=0, columnspan=3, sticky='NSEW')\n",
    "\n",
    "    janela.mainloop()\n",
    "\n",
    "for i in range(len(df.columns)):\n",
    "    df1.loc['Psicologico', str(df.columns[i])] = lista_respostas_auto[0]\n",
    "    df1.loc['Pessoal', str(df.columns[i])] = lista_respostas_auto[1]\n",
    "\n",
    "# display(df1)"
   ]
  },
  {
   "cell_type": "markdown",
   "metadata": {},
   "source": [
    "#### Organizando os dados para o gráfico de radar"
   ]
  },
  {
   "cell_type": "code",
   "execution_count": 9,
   "metadata": {},
   "outputs": [],
   "source": [
    "df.sort_values(by=[mes_referencia], inplace=True, ascending=True)\n",
    "df1.sort_values(by=[mes_referencia], inplace=True, ascending=True)"
   ]
  },
  {
   "cell_type": "markdown",
   "metadata": {},
   "source": [
    "### Mostrando os Graficos"
   ]
  },
  {
   "cell_type": "code",
   "execution_count": 10,
   "metadata": {},
   "outputs": [
    {
     "data": {
      "application/vnd.plotly.v1+json": {
       "config": {
        "plotlyServerURL": "https://plot.ly"
       },
       "data": [
        {
         "fill": "toself",
         "line": {
          "shape": "spline"
         },
         "name": "Junho",
         "r": [
          3,
          6,
          6,
          2,
          6,
          7,
          6,
          7,
          6
         ],
         "subplot": "polar",
         "theta": [
          "Profissional",
          "Financeiro",
          "Servir",
          "Social",
          "Intelectual",
          "Parentes",
          "Saude",
          "Espiritual",
          "Emocional"
         ],
         "type": "scatterpolar"
        },
        {
         "fill": "toself",
         "line": {
          "shape": "spline"
         },
         "name": "Julho",
         "r": [
          "1",
          "3",
          "3",
          "3",
          "5",
          "5",
          "6",
          "6",
          "6"
         ],
         "subplot": "polar",
         "theta": [
          "Profissional",
          "Financeiro",
          "Servir",
          "Social",
          "Intelectual",
          "Parentes",
          "Saude",
          "Espiritual",
          "Emocional"
         ],
         "type": "scatterpolar"
        },
        {
         "fill": "toself",
         "line": {
          "shape": "spline"
         },
         "name": "Junho",
         "r": [
          3,
          "5",
          6,
          6,
          7,
          "6"
         ],
         "subplot": "polar2",
         "theta": [
          "Profissional",
          "Psicologico",
          "Saude",
          "Emocional",
          "Espiritual",
          "Pessoal"
         ],
         "type": "scatterpolar"
        },
        {
         "fill": "toself",
         "line": {
          "shape": "spline"
         },
         "name": "Julho",
         "r": [
          "1",
          "5",
          "6",
          "6",
          "6",
          "6"
         ],
         "subplot": "polar2",
         "theta": [
          "Profissional",
          "Psicologico",
          "Saude",
          "Emocional",
          "Espiritual",
          "Pessoal"
         ],
         "type": "scatterpolar"
        }
       ],
       "layout": {
        "annotations": [
         {
          "font": {
           "size": 16
          },
          "showarrow": false,
          "text": "Roda da Vida",
          "x": 0.225,
          "xanchor": "center",
          "xref": "paper",
          "y": 1,
          "yanchor": "bottom",
          "yref": "paper"
         },
         {
          "font": {
           "size": 16
          },
          "showarrow": false,
          "text": "Roda do Autocuidado",
          "x": 0.775,
          "xanchor": "center",
          "xref": "paper",
          "y": 1,
          "yanchor": "bottom",
          "yref": "paper"
         }
        ],
        "height": 700,
        "polar": {
         "domain": {
          "x": [
           0,
           0.45
          ],
          "y": [
           0,
           1
          ]
         },
         "radialaxis": {
          "range": [
           0,
           10
          ]
         }
        },
        "polar2": {
         "domain": {
          "x": [
           0.55,
           1
          ],
          "y": [
           0,
           1
          ]
         },
         "radialaxis": {
          "range": [
           0,
           10
          ]
         }
        },
        "template": {
         "data": {
          "bar": [
           {
            "error_x": {
             "color": "#2a3f5f"
            },
            "error_y": {
             "color": "#2a3f5f"
            },
            "marker": {
             "line": {
              "color": "#E5ECF6",
              "width": 0.5
             },
             "pattern": {
              "fillmode": "overlay",
              "size": 10,
              "solidity": 0.2
             }
            },
            "type": "bar"
           }
          ],
          "barpolar": [
           {
            "marker": {
             "line": {
              "color": "#E5ECF6",
              "width": 0.5
             },
             "pattern": {
              "fillmode": "overlay",
              "size": 10,
              "solidity": 0.2
             }
            },
            "type": "barpolar"
           }
          ],
          "carpet": [
           {
            "aaxis": {
             "endlinecolor": "#2a3f5f",
             "gridcolor": "white",
             "linecolor": "white",
             "minorgridcolor": "white",
             "startlinecolor": "#2a3f5f"
            },
            "baxis": {
             "endlinecolor": "#2a3f5f",
             "gridcolor": "white",
             "linecolor": "white",
             "minorgridcolor": "white",
             "startlinecolor": "#2a3f5f"
            },
            "type": "carpet"
           }
          ],
          "choropleth": [
           {
            "colorbar": {
             "outlinewidth": 0,
             "ticks": ""
            },
            "type": "choropleth"
           }
          ],
          "contour": [
           {
            "colorbar": {
             "outlinewidth": 0,
             "ticks": ""
            },
            "colorscale": [
             [
              0,
              "#0d0887"
             ],
             [
              0.1111111111111111,
              "#46039f"
             ],
             [
              0.2222222222222222,
              "#7201a8"
             ],
             [
              0.3333333333333333,
              "#9c179e"
             ],
             [
              0.4444444444444444,
              "#bd3786"
             ],
             [
              0.5555555555555556,
              "#d8576b"
             ],
             [
              0.6666666666666666,
              "#ed7953"
             ],
             [
              0.7777777777777778,
              "#fb9f3a"
             ],
             [
              0.8888888888888888,
              "#fdca26"
             ],
             [
              1,
              "#f0f921"
             ]
            ],
            "type": "contour"
           }
          ],
          "contourcarpet": [
           {
            "colorbar": {
             "outlinewidth": 0,
             "ticks": ""
            },
            "type": "contourcarpet"
           }
          ],
          "heatmap": [
           {
            "colorbar": {
             "outlinewidth": 0,
             "ticks": ""
            },
            "colorscale": [
             [
              0,
              "#0d0887"
             ],
             [
              0.1111111111111111,
              "#46039f"
             ],
             [
              0.2222222222222222,
              "#7201a8"
             ],
             [
              0.3333333333333333,
              "#9c179e"
             ],
             [
              0.4444444444444444,
              "#bd3786"
             ],
             [
              0.5555555555555556,
              "#d8576b"
             ],
             [
              0.6666666666666666,
              "#ed7953"
             ],
             [
              0.7777777777777778,
              "#fb9f3a"
             ],
             [
              0.8888888888888888,
              "#fdca26"
             ],
             [
              1,
              "#f0f921"
             ]
            ],
            "type": "heatmap"
           }
          ],
          "heatmapgl": [
           {
            "colorbar": {
             "outlinewidth": 0,
             "ticks": ""
            },
            "colorscale": [
             [
              0,
              "#0d0887"
             ],
             [
              0.1111111111111111,
              "#46039f"
             ],
             [
              0.2222222222222222,
              "#7201a8"
             ],
             [
              0.3333333333333333,
              "#9c179e"
             ],
             [
              0.4444444444444444,
              "#bd3786"
             ],
             [
              0.5555555555555556,
              "#d8576b"
             ],
             [
              0.6666666666666666,
              "#ed7953"
             ],
             [
              0.7777777777777778,
              "#fb9f3a"
             ],
             [
              0.8888888888888888,
              "#fdca26"
             ],
             [
              1,
              "#f0f921"
             ]
            ],
            "type": "heatmapgl"
           }
          ],
          "histogram": [
           {
            "marker": {
             "pattern": {
              "fillmode": "overlay",
              "size": 10,
              "solidity": 0.2
             }
            },
            "type": "histogram"
           }
          ],
          "histogram2d": [
           {
            "colorbar": {
             "outlinewidth": 0,
             "ticks": ""
            },
            "colorscale": [
             [
              0,
              "#0d0887"
             ],
             [
              0.1111111111111111,
              "#46039f"
             ],
             [
              0.2222222222222222,
              "#7201a8"
             ],
             [
              0.3333333333333333,
              "#9c179e"
             ],
             [
              0.4444444444444444,
              "#bd3786"
             ],
             [
              0.5555555555555556,
              "#d8576b"
             ],
             [
              0.6666666666666666,
              "#ed7953"
             ],
             [
              0.7777777777777778,
              "#fb9f3a"
             ],
             [
              0.8888888888888888,
              "#fdca26"
             ],
             [
              1,
              "#f0f921"
             ]
            ],
            "type": "histogram2d"
           }
          ],
          "histogram2dcontour": [
           {
            "colorbar": {
             "outlinewidth": 0,
             "ticks": ""
            },
            "colorscale": [
             [
              0,
              "#0d0887"
             ],
             [
              0.1111111111111111,
              "#46039f"
             ],
             [
              0.2222222222222222,
              "#7201a8"
             ],
             [
              0.3333333333333333,
              "#9c179e"
             ],
             [
              0.4444444444444444,
              "#bd3786"
             ],
             [
              0.5555555555555556,
              "#d8576b"
             ],
             [
              0.6666666666666666,
              "#ed7953"
             ],
             [
              0.7777777777777778,
              "#fb9f3a"
             ],
             [
              0.8888888888888888,
              "#fdca26"
             ],
             [
              1,
              "#f0f921"
             ]
            ],
            "type": "histogram2dcontour"
           }
          ],
          "mesh3d": [
           {
            "colorbar": {
             "outlinewidth": 0,
             "ticks": ""
            },
            "type": "mesh3d"
           }
          ],
          "parcoords": [
           {
            "line": {
             "colorbar": {
              "outlinewidth": 0,
              "ticks": ""
             }
            },
            "type": "parcoords"
           }
          ],
          "pie": [
           {
            "automargin": true,
            "type": "pie"
           }
          ],
          "scatter": [
           {
            "fillpattern": {
             "fillmode": "overlay",
             "size": 10,
             "solidity": 0.2
            },
            "type": "scatter"
           }
          ],
          "scatter3d": [
           {
            "line": {
             "colorbar": {
              "outlinewidth": 0,
              "ticks": ""
             }
            },
            "marker": {
             "colorbar": {
              "outlinewidth": 0,
              "ticks": ""
             }
            },
            "type": "scatter3d"
           }
          ],
          "scattercarpet": [
           {
            "marker": {
             "colorbar": {
              "outlinewidth": 0,
              "ticks": ""
             }
            },
            "type": "scattercarpet"
           }
          ],
          "scattergeo": [
           {
            "marker": {
             "colorbar": {
              "outlinewidth": 0,
              "ticks": ""
             }
            },
            "type": "scattergeo"
           }
          ],
          "scattergl": [
           {
            "marker": {
             "colorbar": {
              "outlinewidth": 0,
              "ticks": ""
             }
            },
            "type": "scattergl"
           }
          ],
          "scattermapbox": [
           {
            "marker": {
             "colorbar": {
              "outlinewidth": 0,
              "ticks": ""
             }
            },
            "type": "scattermapbox"
           }
          ],
          "scatterpolar": [
           {
            "marker": {
             "colorbar": {
              "outlinewidth": 0,
              "ticks": ""
             }
            },
            "type": "scatterpolar"
           }
          ],
          "scatterpolargl": [
           {
            "marker": {
             "colorbar": {
              "outlinewidth": 0,
              "ticks": ""
             }
            },
            "type": "scatterpolargl"
           }
          ],
          "scatterternary": [
           {
            "marker": {
             "colorbar": {
              "outlinewidth": 0,
              "ticks": ""
             }
            },
            "type": "scatterternary"
           }
          ],
          "surface": [
           {
            "colorbar": {
             "outlinewidth": 0,
             "ticks": ""
            },
            "colorscale": [
             [
              0,
              "#0d0887"
             ],
             [
              0.1111111111111111,
              "#46039f"
             ],
             [
              0.2222222222222222,
              "#7201a8"
             ],
             [
              0.3333333333333333,
              "#9c179e"
             ],
             [
              0.4444444444444444,
              "#bd3786"
             ],
             [
              0.5555555555555556,
              "#d8576b"
             ],
             [
              0.6666666666666666,
              "#ed7953"
             ],
             [
              0.7777777777777778,
              "#fb9f3a"
             ],
             [
              0.8888888888888888,
              "#fdca26"
             ],
             [
              1,
              "#f0f921"
             ]
            ],
            "type": "surface"
           }
          ],
          "table": [
           {
            "cells": {
             "fill": {
              "color": "#EBF0F8"
             },
             "line": {
              "color": "white"
             }
            },
            "header": {
             "fill": {
              "color": "#C8D4E3"
             },
             "line": {
              "color": "white"
             }
            },
            "type": "table"
           }
          ]
         },
         "layout": {
          "annotationdefaults": {
           "arrowcolor": "#2a3f5f",
           "arrowhead": 0,
           "arrowwidth": 1
          },
          "autotypenumbers": "strict",
          "coloraxis": {
           "colorbar": {
            "outlinewidth": 0,
            "ticks": ""
           }
          },
          "colorscale": {
           "diverging": [
            [
             0,
             "#8e0152"
            ],
            [
             0.1,
             "#c51b7d"
            ],
            [
             0.2,
             "#de77ae"
            ],
            [
             0.3,
             "#f1b6da"
            ],
            [
             0.4,
             "#fde0ef"
            ],
            [
             0.5,
             "#f7f7f7"
            ],
            [
             0.6,
             "#e6f5d0"
            ],
            [
             0.7,
             "#b8e186"
            ],
            [
             0.8,
             "#7fbc41"
            ],
            [
             0.9,
             "#4d9221"
            ],
            [
             1,
             "#276419"
            ]
           ],
           "sequential": [
            [
             0,
             "#0d0887"
            ],
            [
             0.1111111111111111,
             "#46039f"
            ],
            [
             0.2222222222222222,
             "#7201a8"
            ],
            [
             0.3333333333333333,
             "#9c179e"
            ],
            [
             0.4444444444444444,
             "#bd3786"
            ],
            [
             0.5555555555555556,
             "#d8576b"
            ],
            [
             0.6666666666666666,
             "#ed7953"
            ],
            [
             0.7777777777777778,
             "#fb9f3a"
            ],
            [
             0.8888888888888888,
             "#fdca26"
            ],
            [
             1,
             "#f0f921"
            ]
           ],
           "sequentialminus": [
            [
             0,
             "#0d0887"
            ],
            [
             0.1111111111111111,
             "#46039f"
            ],
            [
             0.2222222222222222,
             "#7201a8"
            ],
            [
             0.3333333333333333,
             "#9c179e"
            ],
            [
             0.4444444444444444,
             "#bd3786"
            ],
            [
             0.5555555555555556,
             "#d8576b"
            ],
            [
             0.6666666666666666,
             "#ed7953"
            ],
            [
             0.7777777777777778,
             "#fb9f3a"
            ],
            [
             0.8888888888888888,
             "#fdca26"
            ],
            [
             1,
             "#f0f921"
            ]
           ]
          },
          "colorway": [
           "#636efa",
           "#EF553B",
           "#00cc96",
           "#ab63fa",
           "#FFA15A",
           "#19d3f3",
           "#FF6692",
           "#B6E880",
           "#FF97FF",
           "#FECB52"
          ],
          "font": {
           "color": "#2a3f5f"
          },
          "geo": {
           "bgcolor": "white",
           "lakecolor": "white",
           "landcolor": "#E5ECF6",
           "showlakes": true,
           "showland": true,
           "subunitcolor": "white"
          },
          "hoverlabel": {
           "align": "left"
          },
          "hovermode": "closest",
          "mapbox": {
           "style": "light"
          },
          "paper_bgcolor": "white",
          "plot_bgcolor": "#E5ECF6",
          "polar": {
           "angularaxis": {
            "gridcolor": "white",
            "linecolor": "white",
            "ticks": ""
           },
           "bgcolor": "#E5ECF6",
           "radialaxis": {
            "gridcolor": "white",
            "linecolor": "white",
            "ticks": ""
           }
          },
          "scene": {
           "xaxis": {
            "backgroundcolor": "#E5ECF6",
            "gridcolor": "white",
            "gridwidth": 2,
            "linecolor": "white",
            "showbackground": true,
            "ticks": "",
            "zerolinecolor": "white"
           },
           "yaxis": {
            "backgroundcolor": "#E5ECF6",
            "gridcolor": "white",
            "gridwidth": 2,
            "linecolor": "white",
            "showbackground": true,
            "ticks": "",
            "zerolinecolor": "white"
           },
           "zaxis": {
            "backgroundcolor": "#E5ECF6",
            "gridcolor": "white",
            "gridwidth": 2,
            "linecolor": "white",
            "showbackground": true,
            "ticks": "",
            "zerolinecolor": "white"
           }
          },
          "shapedefaults": {
           "line": {
            "color": "#2a3f5f"
           }
          },
          "ternary": {
           "aaxis": {
            "gridcolor": "white",
            "linecolor": "white",
            "ticks": ""
           },
           "baxis": {
            "gridcolor": "white",
            "linecolor": "white",
            "ticks": ""
           },
           "bgcolor": "#E5ECF6",
           "caxis": {
            "gridcolor": "white",
            "linecolor": "white",
            "ticks": ""
           }
          },
          "title": {
           "x": 0.05
          },
          "xaxis": {
           "automargin": true,
           "gridcolor": "white",
           "linecolor": "white",
           "ticks": "",
           "title": {
            "standoff": 15
           },
           "zerolinecolor": "white",
           "zerolinewidth": 2
          },
          "yaxis": {
           "automargin": true,
           "gridcolor": "white",
           "linecolor": "white",
           "ticks": "",
           "title": {
            "standoff": 15
           },
           "zerolinecolor": "white",
           "zerolinewidth": 2
          }
         }
        },
        "width": 1200
       }
      }
     },
     "metadata": {},
     "output_type": "display_data"
    }
   ],
   "source": [
    "fig = make_subplots(rows=1, cols=2, subplot_titles=(\"Roda da Vida\", \"Roda do Autocuidado\"), specs=[[{'type': 'polar'}]*2])\n",
    "\n",
    "# plotando cada grafico de radar que esta dentro do dataframe com um loop\n",
    "for name in df:\n",
    "    fig.add_trace(go.Scatterpolar(r = df[name], \n",
    "                                  theta = df.index, \n",
    "                                  fill = 'toself', \n",
    "                                  name = name,\n",
    "                                  line_shape=\"spline\"), row=1, col=1) # r = raio, theta = angulo, name = nome da legenda \n",
    "\n",
    "# plotando cada grafico de radar que esta dentro do dataframe com um loop\n",
    "for name in df1:\n",
    "    fig.add_trace(go.Scatterpolar(r = df1[name], \n",
    "                                  theta = df1.index, \n",
    "                                  fill = 'toself', \n",
    "                                  name = name,\n",
    "                                  line_shape=\"spline\"), row=1, col=2) # r = raio, theta = angulo, name = nome da legenda, line_shape = tipo de linha, fill = preencher o grafico\n",
    "\n",
    "# atualizando o layout do gráfico\n",
    "fig.update_layout(height=700, width=1200) \n",
    "fig.update_layout(polar=dict(radialaxis=dict(range=[0, 10])), polar2=dict(radialaxis=dict(range=[0, 10])))\n",
    "\n",
    "fig.show()"
   ]
  },
  {
   "cell_type": "markdown",
   "metadata": {},
   "source": [
    "### Decidindo a prioridade dos pilares"
   ]
  },
  {
   "cell_type": "code",
   "execution_count": 11,
   "metadata": {},
   "outputs": [
    {
     "data": {
      "text/html": [
       "<div>\n",
       "<style scoped>\n",
       "    .dataframe tbody tr th:only-of-type {\n",
       "        vertical-align: middle;\n",
       "    }\n",
       "\n",
       "    .dataframe tbody tr th {\n",
       "        vertical-align: top;\n",
       "    }\n",
       "\n",
       "    .dataframe thead th {\n",
       "        text-align: right;\n",
       "    }\n",
       "</style>\n",
       "<table border=\"1\" class=\"dataframe\">\n",
       "  <thead>\n",
       "    <tr style=\"text-align: right;\">\n",
       "      <th></th>\n",
       "      <th>Junho</th>\n",
       "      <th>Julho</th>\n",
       "    </tr>\n",
       "    <tr>\n",
       "      <th>Categorias</th>\n",
       "      <th></th>\n",
       "      <th></th>\n",
       "    </tr>\n",
       "  </thead>\n",
       "  <tbody>\n",
       "    <tr>\n",
       "      <th>Profissional</th>\n",
       "      <td>3</td>\n",
       "      <td>1</td>\n",
       "    </tr>\n",
       "    <tr>\n",
       "      <th>Financeiro</th>\n",
       "      <td>6</td>\n",
       "      <td>3</td>\n",
       "    </tr>\n",
       "    <tr>\n",
       "      <th>Servir</th>\n",
       "      <td>6</td>\n",
       "      <td>3</td>\n",
       "    </tr>\n",
       "    <tr>\n",
       "      <th>Social</th>\n",
       "      <td>2</td>\n",
       "      <td>3</td>\n",
       "    </tr>\n",
       "    <tr>\n",
       "      <th>Intelectual</th>\n",
       "      <td>6</td>\n",
       "      <td>5</td>\n",
       "    </tr>\n",
       "    <tr>\n",
       "      <th>Parentes</th>\n",
       "      <td>7</td>\n",
       "      <td>5</td>\n",
       "    </tr>\n",
       "    <tr>\n",
       "      <th>Saude</th>\n",
       "      <td>6</td>\n",
       "      <td>6</td>\n",
       "    </tr>\n",
       "    <tr>\n",
       "      <th>Espiritual</th>\n",
       "      <td>7</td>\n",
       "      <td>6</td>\n",
       "    </tr>\n",
       "    <tr>\n",
       "      <th>Emocional</th>\n",
       "      <td>6</td>\n",
       "      <td>6</td>\n",
       "    </tr>\n",
       "  </tbody>\n",
       "</table>\n",
       "</div>"
      ],
      "text/plain": [
       "              Junho  Julho\n",
       "Categorias                \n",
       "Profissional      3      1\n",
       "Financeiro        6      3\n",
       "Servir            6      3\n",
       "Social            2      3\n",
       "Intelectual       6      5\n",
       "Parentes          7      5\n",
       "Saude             6      6\n",
       "Espiritual        7      6\n",
       "Emocional         6      6"
      ]
     },
     "metadata": {},
     "output_type": "display_data"
    }
   ],
   "source": [
    "# comparando os valores de cada pilar do mes atual(que estao dentro do df) para decidir a prioridade\n",
    "df[mes_referencia] = df[mes_referencia].astype(int) # convert the column to integer\n",
    "df.sort_values(by=[mes_referencia], inplace=True, ascending=True)\n",
    "# encontrando a linha com o menor valor e atribuindo a prioridade como alta\n",
    "\n",
    "display(df)\n"
   ]
  }
 ],
 "metadata": {
  "kernelspec": {
   "display_name": "base",
   "language": "python",
   "name": "python3"
  },
  "language_info": {
   "codemirror_mode": {
    "name": "ipython",
    "version": 3
   },
   "file_extension": ".py",
   "mimetype": "text/x-python",
   "name": "python",
   "nbconvert_exporter": "python",
   "pygments_lexer": "ipython3",
   "version": "3.10.9"
  },
  "orig_nbformat": 4
 },
 "nbformat": 4,
 "nbformat_minor": 2
}
