{
 "cells": [
  {
   "cell_type": "markdown",
   "metadata": {},
   "source": [
    "## Passo a Passo\n",
    "- [x] Importar as bibliotecas\n",
    "- [x] Fazer as perguntas ao usuário\n",
    "- [x] Criar as condições para cada resposta\n",
    "- [x] Armazenar as informações em um arquivo em excel que servira como base de dados\n",
    "- [x] Carregar as informações do arquivo excel\n",
    "- [x] Mostrar as informações em um gráfico de radar"
   ]
  },
  {
   "cell_type": "markdown",
   "metadata": {},
   "source": [
    "### Como funciona o Dash\n",
    "- Layout\n",
    "    - HTML\n",
    "    - Dash Components (Core Components)\n",
    "- Callbacks"
   ]
  },
  {
   "cell_type": "markdown",
   "metadata": {},
   "source": [
    "### Bibliotecas Usadas nesse projeto\n",
    "\n",
    "- Estrutura Básica    \n",
    "    - Dash\n",
    "    - plotly graficos\n",
    "    - Flask aplicação web"
   ]
  },
  {
   "cell_type": "code",
   "execution_count": 51,
   "metadata": {},
   "outputs": [],
   "source": [
    "# Importando as bibliotecas necessárias\n",
    "import plotly.graph_objects as go\n",
    "import plotly.express as px\n",
    "import pandas as pd\n",
    "import tkinter as tk\n",
    "from dash import Dash, html, dcc, Input, Output\n",
    "from plotly.subplots import make_subplots"
   ]
  },
  {
   "cell_type": "code",
   "execution_count": 52,
   "metadata": {},
   "outputs": [],
   "source": [
    "# fazendo um dicionario com os pilares e as perguntas\n",
    "pilares = {\"Profissional\": \"Qual é o seu nível de satisfação com sua vida profissional atualmente?\",\n",
    "        \"Financeiro\": \"Qual é o seu nível de satisfação com sua situação financeira atualmente?\",\n",
    "        \"Intelectual\": \"Qual é o seu nível de satisfação com seu crescimento intelectual e aprendizado contínuo?\",\n",
    "        \"Servir\": \"Qual é o seu nível de satisfação com a contribuição que você faz para servir os outros e tornar o mundo um lugar melhor?\",\n",
    "        \"Saude\": \"Qual é o seu nível de satisfação com sua saúde física e bem-estar?\",\n",
    "        \"Social\": \"Qual é o seu nível de satisfação com suas relações sociais e vida social?\",\n",
    "        \"Parentes\": \"Qual é o seu nível de satisfação com seus relacionamentos familiares e com seus parentes?\",\n",
    "        \"Espiritual\": \"Qual é o seu nível de satisfação com sua conexão espiritual e sentido de propósito?\",\n",
    "        \"Emocional\": \"Qual é o seu nível de satisfação com sua saúde emocional e capacidade de lidar com as adversidades da vida?\"}\n",
    "\n",
    "# criando uma lista com os pilares\n",
    "lista_pilares = [\"Profissional\", \"Financeiro\", \"Intelectual\", \"Servir\", \"Saude\", \"Social\", \"Parentes\", \"Espiritual\", \"Emocional\"]\n",
    "\n",
    "# criando uma lista com as respostas\n",
    "lista_respostas = []"
   ]
  },
  {
   "cell_type": "code",
   "execution_count": 53,
   "metadata": {},
   "outputs": [],
   "source": [
    "# descobrindo o mes de referencia de acordo com o mes atual\n",
    "import datetime\n",
    "mes_atual = datetime.datetime.now().month   # mes atual\n",
    "meses = [\"Janeiro\", \"Fevereiro\", \"Março\", \"Abril\", \"Maio\", \"Junho\", \"Julho\", \"Agosto\", \"Setembro\", \"Outubro\", \"Novembo\", \"Dezembro\"]\n",
    "mes_referencia = str(meses[mes_atual-1])   # mes de referencia"
   ]
  },
  {
   "cell_type": "markdown",
   "metadata": {},
   "source": [
    "### Armazenar as informações em um arquivo em excel que servira como base de dados"
   ]
  },
  {
   "cell_type": "code",
   "execution_count": 54,
   "metadata": {},
   "outputs": [],
   "source": [
    "# create a new dataframe with the answers\n",
    "df0 = pd.DataFrame(lista_respostas, index=lista_pilares, columns=[f'{mes_referencia}'])\n",
    "\n",
    "# display the dataframe\n",
    "# display(df0)"
   ]
  },
  {
   "cell_type": "code",
   "execution_count": 55,
   "metadata": {},
   "outputs": [],
   "source": [
    "# adicionando df0 ao df\n",
    "# lendo os dados\n",
    "df = pd.read_csv('dados.csv', sep=';', index_col=0, encoding='utf-8')\n",
    "# transformando o csv em Dataframe\n",
    "df = pd.DataFrame(df)\n",
    "\n",
    "#verificando se ja existe a coluna do mes atual\n",
    "if mes_referencia not in df.columns:\n",
    "    # modifique apenas os valores da coluna\n",
    "    df[mes_referencia] = df0\n",
    "# else:\n",
    "#     # adicionando os dados do mes atual ao df\n",
    "#     df = df.join(df0)\n",
    "\n",
    "df.to_csv('dados.csv', sep=';', encoding='utf-8')\n",
    "\n",
    "# display(df)"
   ]
  },
  {
   "cell_type": "markdown",
   "metadata": {},
   "source": [
    "### Importando os dados para Roda do Autocuidado "
   ]
  },
  {
   "cell_type": "code",
   "execution_count": 56,
   "metadata": {},
   "outputs": [],
   "source": [
    "# Agora faremos um dataframe separado para Roda do Autocuidado que tem os seguintes pilares 'Saúde', 'Psicológico', 'Emocional', 'Pessoal', 'Profissional', 'Espiritual', para isso pegarei algumas informacoes que ja existem no df para o df1\n",
    "df1 = pd.read_csv('dados2.csv', sep=';', index_col=0, encoding='utf-8')\n",
    "# adicionando as colunas que faltam para isso faremos perguntas sobre esses pilares Psicologico e Pessoal\n",
    "pilares_auto = {\"Psicologico\": \"Em uma escala de 0 a 10, qual é o seu nível de satisfação com sua saúde psicológica e bem-estar?\",\n",
    "                \"Pessoal\": \"Em uma escala de 0 a 10, qual é o seu nível de satisfação com sua saúde pessoal e autocuidado?\"}\n",
    "lista_respostas_auto = []\n",
    "qtde_linhas = len(pilares_auto)\n",
    "#adicionando as linhas que faltam\n",
    "if mes_referencia not in df1.columns:\n",
    "    df1 = pd.concat([df1, df1[mes_referencia]], axis=1)\n",
    "    df1.to_csv('dados2.csv', sep=';', encoding='utf-8')\n",
    "# display(df1)"
   ]
  },
  {
   "cell_type": "markdown",
   "metadata": {},
   "source": [
    "### função que atualize o DataFrame com novos valores"
   ]
  },
  {
   "cell_type": "code",
   "execution_count": 57,
   "metadata": {},
   "outputs": [],
   "source": [
    "# Crie uma função que atualize o DataFrame com novos valores\n",
    "def atualizar_dataframe(categoria, novo_valor):\n",
    "    # importando as variaveis globais\n",
    "    global df\n",
    "    \n",
    "    # atualizando o dataframes\n",
    "    df.loc[df.index == categoria, mes_referencia] = novo_valor\n",
    "    \n",
    "    # salvando as modificacoes no arquivo csv\n",
    "    df.to_csv('dados.csv', sep=';', encoding='utf-8')\n",
    "    \n",
    "\n",
    "def atualizar_dataframe2(categoria, novo_valor):\n",
    "    global df1\n",
    "\n",
    "    df1.loc[df1.index == categoria, mes_referencia] = novo_valor\n",
    "\n",
    "    df1.to_csv('dados2.csv', sep=';', encoding='utf-8')"
   ]
  },
  {
   "cell_type": "markdown",
   "metadata": {},
   "source": [
    "### Mostrando os Graficos"
   ]
  },
  {
   "cell_type": "code",
   "execution_count": 58,
   "metadata": {},
   "outputs": [],
   "source": [
    "fig = make_subplots(rows=1, cols=2, subplot_titles=(\"Roda da Vida\", \"Roda do Autocuidado\"), specs=[[{'type': 'polar'}]*2])\n",
    "\n",
    "# plotando cada grafico de radar que esta dentro do dataframe com um loop\n",
    "for name in df:\n",
    "    fig.add_trace(go.Scatterpolar(r = df[name], \n",
    "                                  theta = df.index, \n",
    "                                  fill = 'toself', \n",
    "                                  name = name,\n",
    "                                  line_shape=\"spline\"), row=1, col=1) # r = raio, theta = angulo, name = nome da legenda\n",
    "\n",
    "\n",
    "# plotando cada grafico de radar que esta dentro do dataframe com um loop\n",
    "for name in df1:\n",
    "    fig.add_trace(go.Scatterpolar(r = df1[name], \n",
    "                                  theta = df1.index, \n",
    "                                  fill = 'toself', \n",
    "                                  name = name,\n",
    "                                  line_shape=\"spline\"), row=1, col=2) # r = raio, theta = angulo, name = nome da legenda, line_shape = tipo de linha, fill = preencher o grafico\n",
    "\n",
    "# atualizando o layout do gráfico\n",
    "fig.update_layout(height=700, width=1200) \n",
    "fig.update_layout(polar=dict(radialaxis=dict(range=[0, 10])), polar2=dict(radialaxis=dict(range=[0, 10])))\n",
    "\n",
    "# criando funcao para atuilizar o grafico\n",
    "def atualizar_grafico():\n",
    "    # importando as variaveis globais\n",
    "    global df\n",
    "    global df1\n",
    "    \n",
    "    # atualizando o grafico\n",
    "    fig = make_subplots(rows=1, cols=2, subplot_titles=(\"Roda da Vida\", \"Roda do Autocuidado\"), specs=[[{'type': 'polar'}]*2])\n",
    "    \n",
    "    # plotando cada grafico de radar que esta dentro do dataframe com um loop\n",
    "    for name in df:\n",
    "        fig.add_trace(go.Scatterpolar(r = df[name], \n",
    "                                      theta = df.index, \n",
    "                                      fill = 'toself', \n",
    "                                      name = name,\n",
    "                                      line_shape=\"spline\"), row=1, col=1) # r = raio, theta = angulo, name = nome da legenda\n",
    "    \n",
    "    # plotando cada grafico de radar que esta dentro do dataframe com um loop\n",
    "    for name in df1:\n",
    "        fig.add_trace(go.Scatterpolar(r = df1[name], \n",
    "                                      theta = df1.index, \n",
    "                                      fill = 'toself', \n",
    "                                      name = name,\n",
    "                                      line_shape=\"spline\"), row=1, col=2) # r = raio, theta = angulo, name = nome da legenda, line_shape = tipo de linha, fill = preencher o grafico    \n",
    "\n",
    "    # atualizando o layout do gráfico\n",
    "    fig.update_layout(height=700, width=1200) \n",
    "    fig.update_layout(polar=dict(radialaxis=dict(range=[0, 10])), polar2=dict(radialaxis=dict(range=[0, 10])))\n",
    "    return fig"
   ]
  },
  {
   "cell_type": "code",
   "execution_count": 59,
   "metadata": {},
   "outputs": [
    {
     "data": {
      "text/html": [
       "\n",
       "        <iframe\n",
       "            width=\"100%\"\n",
       "            height=\"650\"\n",
       "            src=\"http://127.0.0.1:8050/\"\n",
       "            frameborder=\"0\"\n",
       "            allowfullscreen\n",
       "            \n",
       "        ></iframe>\n",
       "        "
      ],
      "text/plain": [
       "<IPython.lib.display.IFrame at 0x1b9ecb1d720>"
      ]
     },
     "metadata": {},
     "output_type": "display_data"
    }
   ],
   "source": [
    "# Execute este aplicativo com `python app.py` e\n",
    "# visite http://127.0.0.1:8050/ em seu navegador.\n",
    "\n",
    "\n",
    "# Inicializando o aplicativo Dash\n",
    "app = Dash(__name__)\n",
    "\n",
    "# Definindo o layout do aplicativo\n",
    "app.layout = html.Div(children=[\n",
    "    html.H1(children='Ferramenta de AutoConhecimento'), # Título do aplicativo\n",
    "\n",
    "    html.Div(children='''\n",
    "        Uma ferramenta para te ajudar a se conhecer melhor e a ter uma vida mais equilibrada.\n",
    "    '''), # Descrição do aplicativo\n",
    "\n",
    "    dcc.Graph(\n",
    "        id='Roda da Vida e Autocuidado',\n",
    "        figure=fig\n",
    "    ), # Gráfico a ser exibido no aplicativo\n",
    "    html.Br(),\n",
    "    html.H2(children='Em uma escala de 1 a 10'), # Título do aplicativo\n",
    "], style={\"text-align\": \"center\", \"font-family\":\"Arial\"}) # Estilo para o layout do aplicativo e o formato do texto\n",
    "\n",
    "\n",
    "# colocando varios sliders para cada pilar da Roda da Vida\n",
    "for pilar in lista_pilares:\n",
    "    app.layout.children.append(html.Div(children=[\n",
    "        html.Br(),\n",
    "        html.Label(pilares[pilar]), # Rótulo para o controle deslizante\n",
    "        dcc.Slider(\n",
    "            min=0,\n",
    "            max=10,\n",
    "            marks={i: f'Valor {i}' if i == 1 else str(i) for i in range(1, 11)}, # Marcas para o controle deslizante\n",
    "            value=df.loc[pilar, mes_referencia], # Valor inicial do controle deslizante\n",
    "            id=pilar\n",
    "        ),\n",
    "    ], style={'padding': 10, 'flex': 10, \"text-align\": \"left\"})) # Estilo para os componentes interativos\n",
    "\n",
    "# colocando varios sliders para cada pilar da Roda do Autocuidado\n",
    "for pilar in pilares_auto.keys():\n",
    "    app.layout.children.append(html.Div(children=[\n",
    "        html.Br(),\n",
    "        html.Label(pilares_auto[pilar]), # Rótulo para o controle deslizante\n",
    "        dcc.Slider(\n",
    "            min=0,\n",
    "            max=10,\n",
    "            marks={i: f'Valor {i}' if i == 1 else str(i) for i in range(1, 11)}, # Marcas para o controle deslizante\n",
    "            value=df1.loc[pilar, mes_referencia], # Valor inicial do controle deslizante\n",
    "            id=pilar\n",
    "        ),\n",
    "    ], style={'padding': 10, 'flex': 10, \"text-align\": \"left\"})) # Estilo para os componentes interativos    \n",
    "\n",
    "\n",
    "\n",
    "# fazendo funcões para atualizar o grafico e o dataframe\n",
    "@app.callback(\n",
    "    Output('Roda da Vida e Autocuidado', 'figure'),\n",
    "    Input('Profissional', 'value'),\n",
    "    Input('Financeiro', 'value'),\n",
    "    Input('Intelectual', 'value'),\n",
    "    Input('Servir', 'value'),\n",
    "    Input('Saude', 'value'),\n",
    "    Input('Social', 'value'),\n",
    "    Input('Parentes', 'value'),\n",
    "    Input('Espiritual', 'value'),\n",
    "    Input('Emocional', 'value'),\n",
    "    Input('Psicologico', 'value'),\n",
    "    Input('Pessoal', 'value')\n",
    ")\n",
    "def update_figure(profissional, financeiro, intelectual, servir, saude, social, parentes, espiritual, emocional, psicolologico, pessoal):\n",
    "    # atualizando o dataframe\n",
    "    atualizar_dataframe('Profissional', profissional)\n",
    "    atualizar_dataframe('Financeiro', financeiro)\n",
    "    atualizar_dataframe('Intelectual', intelectual)\n",
    "    atualizar_dataframe('Servir', servir)\n",
    "    atualizar_dataframe('Saude', saude)\n",
    "    atualizar_dataframe('Social', social)\n",
    "    atualizar_dataframe('Parentes', parentes)\n",
    "    atualizar_dataframe('Espiritual', espiritual)\n",
    "    atualizar_dataframe('Emocional', emocional)\n",
    "    atualizar_dataframe2('Psicologico', psicolologico)\n",
    "    atualizar_dataframe2('Pessoal', pessoal)\n",
    "    # atualizando o grafico\n",
    "    fig = atualizar_grafico()\n",
    "    return fig\n",
    "\n",
    "# Iniciando o aplicativo\n",
    "if __name__ == '__main__':\n",
    "    app.run(debug=True)\n"
   ]
  },
  {
   "cell_type": "markdown",
   "metadata": {},
   "source": [
    "### Decidindo a prioridade dos pilares"
   ]
  },
  {
   "cell_type": "code",
   "execution_count": 60,
   "metadata": {},
   "outputs": [
    {
     "name": "stdout",
     "output_type": "stream",
     "text": [
      "Pilares que preciso melhorar: ['Profissional', 'Social', 'Servir']\n",
      "Pilares que estao bons: ['Financeiro', 'Parentes', 'Intelectual']\n",
      "Pilares que estao otimos: ['Emocional', 'Espiritual', 'Saude']\n"
     ]
    }
   ],
   "source": [
    "# comparando os valores de cada pilar do mes atual(que estao dentro do df) para decidir a prioridade\n",
    "df[mes_referencia] = df[mes_referencia].astype(int) # convert the column to integer\n",
    "df.sort_values(by=[mes_referencia], inplace=True, ascending=True)\n",
    "# encontrando a linha com o menor valor e atribuindo a prioridade como alta\n",
    "# dizendo quais o pilares que tenho que melhorar\n",
    "pilares_melhorar = []\n",
    "for i in range(0, 3):\n",
    "    pilares_melhorar.append(df.index[i])\n",
    "# dizendo quais o pilares que estao bons\n",
    "pilares_bons = []\n",
    "for i in range(3, 6):\n",
    "    pilares_bons.append(df.index[i])\n",
    "# dizendo quais o pilares que estao otimos\n",
    "pilares_otimos = []\n",
    "for i in range(6, 9):\n",
    "    pilares_otimos.append(df.index[i])\n",
    "    \n",
    "print(f'Pilares que preciso melhorar: {pilares_melhorar}')\n",
    "print(f'Pilares que estao bons: {pilares_bons}')\n",
    "print(f'Pilares que estao otimos: {pilares_otimos}')"
   ]
  }
 ],
 "metadata": {
  "kernelspec": {
   "display_name": "Python 3 (ipykernel)",
   "language": "python",
   "name": "python3"
  },
  "language_info": {
   "codemirror_mode": {
    "name": "ipython",
    "version": 3
   },
   "file_extension": ".py",
   "mimetype": "text/x-python",
   "name": "python",
   "nbconvert_exporter": "python",
   "pygments_lexer": "ipython3",
   "version": "3.10.9"
  }
 },
 "nbformat": 4,
 "nbformat_minor": 2
}
